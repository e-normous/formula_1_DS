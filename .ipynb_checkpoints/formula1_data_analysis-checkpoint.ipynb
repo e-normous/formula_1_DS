{
 "cells": [
  {
   "cell_type": "code",
   "execution_count": 103,
   "id": "bcf4e0e0",
   "metadata": {},
   "outputs": [
    {
     "name": "stdout",
     "output_type": "stream",
     "text": [
      "['circuits.csv', 'constructors.csv', 'constructor_results.csv', 'constructor_standings.csv', 'drivers.csv', 'driver_standings.csv', 'lap_times.csv', 'pit_stops.csv', 'qualifying.csv', 'races.csv', 'results.csv', 'seasons.csv', 'sprint_results.csv', 'status.csv']\n"
     ]
    }
   ],
   "source": [
    "#first of all, load the necessary libraries:\n",
    "import numpy as np\n",
    "import pandas as pd\n",
    "import matplotlib.pyplot as plt\n",
    "import seaborn as sns\n",
    "import os\n",
    "\n",
    "#name the (possibly to be imported) datasets:\n",
    "path = \"kaggle_dataset/\"\n",
    "circuits = \"circuits.csv\"\n",
    "constructor_results = \"constructor_results.csv\"\n",
    "constructor_standings = \"constructor_standings.csv\"\n",
    "\n",
    "#get a list of all the files in the dataset and store them in a list:\n",
    "file_list = os.listdir(path)\n",
    "print(file_list)"
   ]
  },
  {
   "cell_type": "code",
   "execution_count": 104,
   "id": "e1f9b41f",
   "metadata": {},
   "outputs": [
    {
     "name": "stdout",
     "output_type": "stream",
     "text": [
      "These are our dataframes:\n",
      "['df_circuits', 'df_constructors', 'df_constructor_results', 'df_constructor_standings', 'df_drivers', 'df_driver_standings', 'df_lap_times', 'df_pit_stops', 'df_qualifying', 'df_races', 'df_results', 'df_seasons', 'df_sprint_results', 'df_status']\n"
     ]
    }
   ],
   "source": [
    "#now we want to make a separate dataset for each file in our file_list.\n",
    "#additionally, we want to store the names of our pandas dataframe in a list so we can recall it easier:\n",
    "pd_dataframe_list = []\n",
    "for dataset in file_list:\n",
    "    df = pd.read_csv(f\"{path}{dataset}\")\n",
    "    globals()[f\"df_{dataset[0:-4]}\"] = df\n",
    "    pd_dataframe_list.append(f\"df_{dataset[0:-4]}\")\n",
    "print(f\"These are our dataframes:\\n{pd_dataframe_list}\")"
   ]
  },
  {
   "cell_type": "code",
   "execution_count": 105,
   "id": "b655ca15",
   "metadata": {},
   "outputs": [
    {
     "name": "stdout",
     "output_type": "stream",
     "text": [
      "First five rows of the circuits dataset:\n",
      "   circuitId   circuitRef                            name      location  \\\n",
      "0          1  albert_park  Albert Park Grand Prix Circuit     Melbourne   \n",
      "1          2       sepang    Sepang International Circuit  Kuala Lumpur   \n",
      "2          3      bahrain   Bahrain International Circuit        Sakhir   \n",
      "3          4    catalunya  Circuit de Barcelona-Catalunya      Montmeló   \n",
      "4          5     istanbul                   Istanbul Park      Istanbul   \n",
      "\n",
      "     country       lat        lng  alt  \\\n",
      "0  Australia -37.84970  144.96800   10   \n",
      "1   Malaysia   2.76083  101.73800   18   \n",
      "2    Bahrain  26.03250   50.51060    7   \n",
      "3      Spain  41.57000    2.26111  109   \n",
      "4     Turkey  40.95170   29.40500  130   \n",
      "\n",
      "                                                 url  \n",
      "0  http://en.wikipedia.org/wiki/Melbourne_Grand_P...  \n",
      "1  http://en.wikipedia.org/wiki/Sepang_Internatio...  \n",
      "2  http://en.wikipedia.org/wiki/Bahrain_Internati...  \n",
      "3  http://en.wikipedia.org/wiki/Circuit_de_Barcel...  \n",
      "4         http://en.wikipedia.org/wiki/Istanbul_Park  \n",
      "\n",
      "\n",
      "Information on the circuits dataset:\n",
      "<class 'pandas.core.frame.DataFrame'>\n",
      "RangeIndex: 76 entries, 0 to 75\n",
      "Data columns (total 9 columns):\n",
      " #   Column      Non-Null Count  Dtype  \n",
      "---  ------      --------------  -----  \n",
      " 0   circuitId   76 non-null     int64  \n",
      " 1   circuitRef  76 non-null     object \n",
      " 2   name        76 non-null     object \n",
      " 3   location    76 non-null     object \n",
      " 4   country     76 non-null     object \n",
      " 5   lat         76 non-null     float64\n",
      " 6   lng         76 non-null     float64\n",
      " 7   alt         76 non-null     object \n",
      " 8   url         76 non-null     object \n",
      "dtypes: float64(2), int64(1), object(6)\n",
      "memory usage: 5.5+ KB\n",
      "None\n",
      "\n",
      "\n",
      "The Circuits dataframe has 76 rows and 9 columns\n"
     ]
    }
   ],
   "source": [
    "#starting with the dataframe for circuit information:\n",
    "print(\"First five rows of the circuits dataset:\")\n",
    "print(df_circuits.head())\n",
    "print(\"\\n\\nInformation on the circuits dataset:\")\n",
    "print(df_circuits.info())\n",
    "#print(\"\\n\\nFurther measurements on the circuits dataset:\")\n",
    "#print(df_circuits.describe())\n",
    "print(f\"\\n\\nThe Circuits dataframe has {df_circuits.shape[0]} rows and {df_circuits.shape[1]} columns\")"
   ]
  },
  {
   "cell_type": "markdown",
   "id": "d8602b37",
   "metadata": {},
   "source": [
    "So we seem to be having quite some information here. It does not make sense to calculate some mean or median on this data set because the information of circuits which is numerical does not make sense to be calculated (e.g. circuitID or latitude). So this seems to be just some kind of \"informational\" dataset about all the (possible) circuits on which a formula 1 race has taken place throughtout the decades. What we can analyze, though, is the number of circuits in each country."
   ]
  },
  {
   "cell_type": "code",
   "execution_count": 106,
   "id": "6970d8fc",
   "metadata": {
    "scrolled": false
   },
   "outputs": [
    {
     "name": "stdout",
     "output_type": "stream",
     "text": [
      "USA             11\n",
      "France           7\n",
      "Spain            6\n",
      "Portugal         4\n",
      "UK               4\n",
      "Italy            4\n",
      "Japan            3\n",
      "Canada           3\n",
      "Germany          3\n",
      "Belgium          3\n",
      "Austria          2\n",
      "South Africa     2\n",
      "Brazil           2\n",
      "Australia        2\n",
      "Singapore        1\n",
      "China            1\n",
      "Saudi Arabia     1\n",
      "Azerbaijan       1\n",
      "Russia           1\n",
      "India            1\n",
      "Switzerland      1\n",
      "Morocco          1\n",
      "Bahrain          1\n",
      "Sweden           1\n",
      "Netherlands      1\n",
      "Korea            1\n",
      "Mexico           1\n",
      "Turkey           1\n",
      "Monaco           1\n",
      "Argentina        1\n",
      "UAE              1\n",
      "Malaysia         1\n",
      "Hungary          1\n",
      "Qatar            1\n",
      "Name: country, dtype: int64\n"
     ]
    }
   ],
   "source": [
    "#get the number of circuits in each country:\n",
    "print(df_circuits[\"country\"].value_counts())\n",
    "\n",
    "#if it was a way larger dataset, we could also get the maximum number of circuits through code or even the name\n",
    "#of the country:\n",
    "#print((df_circuits[\"country\"].value_counts()).max())\n",
    "#a = df_circuits[\"country\"].value_counts()\n",
    "#print(f\"The country with the most circuits is {a.index[0]} with {a[0]} circuits\")"
   ]
  },
  {
   "cell_type": "markdown",
   "id": "9802d66b",
   "metadata": {},
   "source": [
    "So we could find out that the USA has the most circuits in their country. There are many countries which do only have one circuit (not included, of course, are all the countries which do not have one single circuit). Let us plot the above overview in a pie plot now."
   ]
  },
  {
   "cell_type": "code",
   "execution_count": 128,
   "id": "61091b9e",
   "metadata": {},
   "outputs": [
    {
     "data": {
      "image/png": "[encoded data removed]",
      "text/plain": [
       "<Figure size 432x288 with 1 Axes>"
      ]
     },
     "metadata": {},
     "output_type": "display_data"
    }
   ],
   "source": [
    "#plot a pie plot to get a better overview on the number of circuits per country:\n",
    "a = df_circuits[\"country\"].value_counts()\n",
    "\n",
    "#this is the regular pie, which is a little too less compact:\n",
    "#plt.pie(a, labels = a.index)\n",
    "\n",
    "#so we'll summarize data points which are <= 2. First of all, find out how many belong to the \"Rest\" group:\n",
    "rest_value = 0\n",
    "for datapoint in a:\n",
    "    if datapoint <= 2:\n",
    "        rest_value += datapoint\n",
    "\n",
    "#Get all the values in a specific list. We'll need this to remove the ones and twos later:\n",
    "values_new_a = []\n",
    "for i in a.values:\n",
    "    values_new_a.append(i)\n",
    "    \n",
    "#also get all the indices in a specific list:\n",
    "countries_new_a = []\n",
    "for i in a.index:\n",
    "    countries_new_a.append(i)\n",
    "\n",
    "#make them a dictionary and remove all values with 1 or 2:\n",
    "dict_a = dict(zip(countries_new_a, values_new_a))\n",
    "dict_a = {key:val for key, val in dict_a.items() if val > 2}\n",
    "dict_a[\"Rest\"] = rest_value\n",
    "\n",
    "countries_new_a = list(dict_a.keys())\n",
    "values_new_a = list(dict_a.values())\n",
    "\n",
    "a = np.array(values_new_a)\n",
    "sum_a = a.sum()\n",
    "b = np.array(countries_new_a)\n",
    "\n",
    "#get our prefered colors which represent the formula 1 accordingly:\n",
    "colors_pie = [\"red\", \"aqua\", \"maroon\", \"orangered\", \"darkorange\", \"deeppink\", \"violet\",\n",
    "              \"navy\", \"blueviolet\", \"slateblue\", \"grey\", \"midnightblue\", \"black\", \"cyan\", \"deepskyblue\"]\n",
    "\n",
    "#plotting the pie with percentages:\n",
    "#plt.pie(a, labels = b, autopct = '%1.1f%%', colors = colors_pie)\n",
    "\n",
    "#plotting the pie with the actual values which might be more informative:\n",
    "plt.pie(a, labels = b, autopct = lambda p: \"{:.0f}\".format(p * sum_a / 100), colors = colors_pie)\n",
    "\n",
    "plt.title(\"#Circuits per country\")\n",
    "plt.show()"
   ]
  },
  {
   "cell_type": "code",
   "execution_count": null,
   "id": "a234d0e0",
   "metadata": {},
   "outputs": [],
   "source": [
    "#let us analyze another dataframe:\n",
    "print(df_seasons.head())\n",
    "print(df_seasons[\"year\"].min())\n",
    "print(df_seasons[\"year\"].max())"
   ]
  }
 ],
 "metadata": {
  "kernelspec": {
   "display_name": "Python 3 (ipykernel)",
   "language": "python",
   "name": "python3"
  },
  "language_info": {
   "codemirror_mode": {
    "name": "ipython",
    "version": 3
   },
   "file_extension": ".py",
   "mimetype": "text/x-python",
   "name": "python",
   "nbconvert_exporter": "python",
   "pygments_lexer": "ipython3",
   "version": "3.9.12"
  }
 },
 "nbformat": 4,
 "nbformat_minor": 5
}
